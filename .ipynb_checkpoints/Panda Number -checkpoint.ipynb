{
 "cells": [
  {
   "cell_type": "code",
   "execution_count": 17,
   "metadata": {},
   "outputs": [],
   "source": [
    "import pandas as pd \n",
    "import requests\n",
    "\n",
    "web = requests.get('https://www.sightwordsgame.com/counting-chart-numbers-1-to-100/')\n",
    "dfs = pd.read_html(web.text)"
   ]
  },
  {
   "cell_type": "code",
   "execution_count": 19,
   "metadata": {},
   "outputs": [
    {
     "data": {
      "text/plain": [
       "[                 0                1                  2                 3  \\\n",
       " 0            1 one            2 two            3 three            4 four   \n",
       " 1        11 eleven        12 twelve        13 thirteen       14 fourteen   \n",
       " 2   21 twenty- one   22 twenty- two   23 twenty- three   24 twenty- four   \n",
       " 3   31 thirty- one   32 thirty- two   33 thirty- three   34 thirty- four   \n",
       " 4    41 forty- one    42 forty- two    43 forty- three    44 forty- four   \n",
       " 5    51 fifty- one    52 fifty- two    53 fifty- three    54 fifty- four   \n",
       " 6    61 sixty- one    62 sixty- two    63 sixty- three    64 sixty- four   \n",
       " 7  71 seventy- one  72 seventy- two  73 seventy- three  74 seventy- four   \n",
       " 8   81 eighty- one   82 eighty- two   83 eighty- three   84 eighty- four   \n",
       " 9   91 ninety- one   92 ninety- two   93 ninety- three   94 ninety- four   \n",
       " \n",
       "                   4                5                  6                  7  \\\n",
       " 0            5 five            6 six            7 seven            8 eight   \n",
       " 1        15 fifteen       16 sixteen       17 seventeen        18 eighteen   \n",
       " 2   25 twenty- five   26 twenty- six   27 twenty- seven   28 twenty- eight   \n",
       " 3   35 thirty- five   36 thirty- six   37 thirty- seven   38 thirty- eight   \n",
       " 4    45 forty- five    46 forty- six    47 forty- seven    48 forty- eight   \n",
       " 5    55 fifty- five    56 fifty- six    57 fifty- seven    58 fifty- eight   \n",
       " 6    65 sixty- five    66 sixty- six    67 sixty- seven    68 sixty- eight   \n",
       " 7  75 seventy- five  76 seventy- six  77 seventy- seven  78 seventy- eight   \n",
       " 8   85 eighty- five   86 eighty- six   87 eighty- seven   88 eighty- eight   \n",
       " 9   95 ninety- five   96 ninety- six   97 ninety- seven   98 ninety- eight   \n",
       " \n",
       "                   8                9  \n",
       " 0            9 nine           10 ten  \n",
       " 1       19 nineteen        20 twenty  \n",
       " 2   29 twenty- nine        30 thirty  \n",
       " 3   39 thirty- nine         40 forty  \n",
       " 4    49 forty- nine         50 fifty  \n",
       " 5    59 fifty- nine         60 sixty  \n",
       " 6    69 sixty- nine       70 seventy  \n",
       " 7  79 seventy- nine        80 eighty  \n",
       " 8   89 eighty- nine        90 ninety  \n",
       " 9   99 ninety- nine  100 one hundred  ]"
      ]
     },
     "execution_count": 19,
     "metadata": {},
     "output_type": "execute_result"
    }
   ],
   "source": [
    "dfs[1:]"
   ]
  },
  {
   "cell_type": "code",
   "execution_count": 26,
   "metadata": {},
   "outputs": [],
   "source": [
    "dfs = dfs[1]"
   ]
  },
  {
   "cell_type": "code",
   "execution_count": 41,
   "metadata": {},
   "outputs": [
    {
     "data": {
      "text/plain": [
       "'1 one'"
      ]
     },
     "execution_count": 41,
     "metadata": {},
     "output_type": "execute_result"
    }
   ],
   "source": [
    "dfs[0][0]"
   ]
  },
  {
   "cell_type": "code",
   "execution_count": 40,
   "metadata": {},
   "outputs": [
    {
     "ename": "TypeError",
     "evalue": "object of type 'type' has no len()",
     "output_type": "error",
     "traceback": [
      "\u001b[1;31m---------------------------------------------------------------------------\u001b[0m",
      "\u001b[1;31mTypeError\u001b[0m                                 Traceback (most recent call last)",
      "\u001b[1;32m<ipython-input-40-88c04c1a50cb>\u001b[0m in \u001b[0;36m<module>\u001b[1;34m\u001b[0m\n\u001b[0;32m      4\u001b[0m         \u001b[0mblock\u001b[0m \u001b[1;33m=\u001b[0m \u001b[0mstr\u001b[0m\u001b[1;33m(\u001b[0m\u001b[0mdfs\u001b[0m\u001b[1;33m[\u001b[0m\u001b[0mi\u001b[0m\u001b[1;33m]\u001b[0m\u001b[1;33m[\u001b[0m\u001b[0mj\u001b[0m\u001b[1;33m]\u001b[0m\u001b[1;33m)\u001b[0m\u001b[1;33m\u001b[0m\u001b[1;33m\u001b[0m\u001b[0m\n\u001b[0;32m      5\u001b[0m         \u001b[0mlst\u001b[0m \u001b[1;33m=\u001b[0m \u001b[0mblock\u001b[0m\u001b[1;33m.\u001b[0m\u001b[0msplit\u001b[0m\u001b[1;33m(\u001b[0m\u001b[1;33m)\u001b[0m\u001b[1;33m\u001b[0m\u001b[1;33m\u001b[0m\u001b[0m\n\u001b[1;32m----> 6\u001b[1;33m         \u001b[1;32mif\u001b[0m \u001b[0mlen\u001b[0m\u001b[1;33m(\u001b[0m\u001b[0mlist\u001b[0m\u001b[1;33m)\u001b[0m \u001b[1;33m==\u001b[0m \u001b[1;36m3\u001b[0m\u001b[1;33m:\u001b[0m\u001b[1;33m\u001b[0m\u001b[1;33m\u001b[0m\u001b[0m\n\u001b[0m\u001b[0;32m      7\u001b[0m             \u001b[0mblock\u001b[0m\u001b[1;33m.\u001b[0m\u001b[0mreplace\u001b[0m\u001b[1;33m(\u001b[0m\u001b[1;34m\"- \"\u001b[0m\u001b[1;33m,\u001b[0m \u001b[1;34m\"\"\u001b[0m\u001b[1;33m)\u001b[0m\u001b[1;33m\u001b[0m\u001b[1;33m\u001b[0m\u001b[0m\n\u001b[0;32m      8\u001b[0m             \u001b[0mlst_new\u001b[0m \u001b[1;33m=\u001b[0m \u001b[0mblock\u001b[0m\u001b[1;33m.\u001b[0m\u001b[0msplit\u001b[0m\u001b[1;33m(\u001b[0m\u001b[1;33m)\u001b[0m\u001b[1;33m\u001b[0m\u001b[1;33m\u001b[0m\u001b[0m\n",
      "\u001b[1;31mTypeError\u001b[0m: object of type 'type' has no len()"
     ]
    }
   ],
   "source": [
    "d = {}\n",
    "for j in range(len(dfs.columns)):\n",
    "    for i in range(10):\n",
    "        block = dfs[i][j]\n",
    "        lst = block.split()\n",
    "        if len(list) == 3:\n",
    "            block.replace(\"- \", \"\")\n",
    "            lst_new = block.split()\n",
    "            d[lst_new[1]] = lst_new[0]\n",
    "        else:\n",
    "            d[lst[1]] = lst[0]\n",
    "\n",
    "        "
   ]
  },
  {
   "cell_type": "code",
   "execution_count": 35,
   "metadata": {},
   "outputs": [
    {
     "data": {
      "text/plain": [
       "'2 two'"
      ]
     },
     "execution_count": 35,
     "metadata": {},
     "output_type": "execute_result"
    }
   ],
   "source": [
    "dfs[1][0]"
   ]
  }
 ],
 "metadata": {
  "kernelspec": {
   "display_name": "Python 3",
   "language": "python",
   "name": "python3"
  },
  "language_info": {
   "codemirror_mode": {
    "name": "ipython",
    "version": 3
   },
   "file_extension": ".py",
   "mimetype": "text/x-python",
   "name": "python",
   "nbconvert_exporter": "python",
   "pygments_lexer": "ipython3",
   "version": "3.7.3"
  }
 },
 "nbformat": 4,
 "nbformat_minor": 2
}
